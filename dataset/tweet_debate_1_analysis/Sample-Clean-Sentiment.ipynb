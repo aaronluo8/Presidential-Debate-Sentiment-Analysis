{
 "cells": [
  {
   "cell_type": "code",
   "execution_count": 1,
   "metadata": {},
   "outputs": [],
   "source": [
    "import os\n",
    "import tweepy as tw\n",
    "import pandas as pd"
   ]
  },
  {
   "cell_type": "code",
   "execution_count": 2,
   "metadata": {},
   "outputs": [],
   "source": [
    "accesstoken = 'Your Access Token'\n",
    "accesstokensecret = 'Your Token Secret'\n",
    "apikey = 'API'\n",
    "apisecretkey = 'APIKEY'"
   ]
  },
  {
   "cell_type": "code",
   "execution_count": 3,
   "metadata": {},
   "outputs": [],
   "source": [
    "auth = tw.OAuthHandler(apikey, apisecretkey)\n",
    "auth.set_access_token(accesstoken, accesstokensecret)\n",
    "api = tw.API(auth, wait_on_rate_limit=True)"
   ]
  },
  {
   "cell_type": "code",
   "execution_count": 4,
   "metadata": {},
   "outputs": [],
   "source": [
    "search_words = \"Biden\" # This will be changed to Donald Trump when we retrieve tweets related to him.\n",
    "date_since = \"2020-8-1\""
   ]
  },
  {
   "cell_type": "code",
   "execution_count": 5,
   "metadata": {},
   "outputs": [],
   "source": [
    "tweets = tw.Cursor(api.search, q=search_words, lang=\"en\", since=date_since).items(1000)"
   ]
  },
  {
   "cell_type": "code",
   "execution_count": 6,
   "metadata": {},
   "outputs": [
    {
     "data": {
      "text/plain": [
       "<tweepy.cursor.ItemIterator at 0x14f570c3ac0>"
      ]
     },
     "execution_count": 6,
     "metadata": {},
     "output_type": "execute_result"
    }
   ],
   "source": [
    "tweets"
   ]
  },
  {
   "cell_type": "code",
   "execution_count": null,
   "metadata": {},
   "outputs": [],
   "source": [
    "tweet_details = [[tweet.geo, tweet.text, tweet.user.screen_name, tweet.user.location] for tweet in tweets]"
   ]
  },
  {
   "cell_type": "code",
   "execution_count": 9,
   "metadata": {},
   "outputs": [],
   "source": [
    "\n",
    "tweet_df = pd.DataFrame(data=tweet_details, columns=[\"geo\",\"text\",\"user\",\"location\"])\n",
    "tweet_df.to_csv('C:/Users/anshi/Desktop/Biden_loc.csv', index=False)"
   ]
  },
  {
   "cell_type": "code",
   "execution_count": 10,
   "metadata": {},
   "outputs": [
    {
     "data": {
      "text/html": [
       "<div>\n",
       "<style scoped>\n",
       "    .dataframe tbody tr th:only-of-type {\n",
       "        vertical-align: middle;\n",
       "    }\n",
       "\n",
       "    .dataframe tbody tr th {\n",
       "        vertical-align: top;\n",
       "    }\n",
       "\n",
       "    .dataframe thead th {\n",
       "        text-align: right;\n",
       "    }\n",
       "</style>\n",
       "<table border=\"1\" class=\"dataframe\">\n",
       "  <thead>\n",
       "    <tr style=\"text-align: right;\">\n",
       "      <th></th>\n",
       "      <th>geo</th>\n",
       "      <th>text</th>\n",
       "      <th>user</th>\n",
       "      <th>location</th>\n",
       "    </tr>\n",
       "  </thead>\n",
       "  <tbody>\n",
       "    <tr>\n",
       "      <th>0</th>\n",
       "      <td>None</td>\n",
       "      <td>BRING THE TAPE OF BIDEN ADMITTING THAT HE HAS THE BEST SYSTEM FOR FRAUD THEN EVER BEFORE.\\nI PUT A MOTION TO THE SUP… https://t.co/DBFDraHtS5</td>\n",
       "      <td>JACROYAL</td>\n",
       "      <td></td>\n",
       "    </tr>\n",
       "    <tr>\n",
       "      <th>1</th>\n",
       "      <td>None</td>\n",
       "      <td>A Rush to Expand the Border Wall That Many Fear Is Here to Stay https://t.co/7ZR7b2enGv</td>\n",
       "      <td>JosRamnLorenzo1</td>\n",
       "      <td></td>\n",
       "    </tr>\n",
       "    <tr>\n",
       "      <th>2</th>\n",
       "      <td>None</td>\n",
       "      <td>RT @CREWcrew: 2012 Obama: 51.1% of the vote, 65.9 million votes\\n2012 Romney: 47.2% of the vote, 60.9 million votes\\n\\n2020 Biden: 51.1% of th…</td>\n",
       "      <td>PSchauben</td>\n",
       "      <td>she/her</td>\n",
       "    </tr>\n",
       "    <tr>\n",
       "      <th>3</th>\n",
       "      <td>None</td>\n",
       "      <td>@joshdcaplan @IngrahamAngle Electoral vote going Trump! Screw Beijing Biden and Obama regime</td>\n",
       "      <td>Arabian67</td>\n",
       "      <td>Anderson, IN</td>\n",
       "    </tr>\n",
       "    <tr>\n",
       "      <th>4</th>\n",
       "      <td>None</td>\n",
       "      <td>RT @kylegriffin1: The outgoing Trump admin is racing to enact the biggest change to the federal civil service in generations, reclassifying…</td>\n",
       "      <td>KellyReed72184</td>\n",
       "      <td>Canby, OR</td>\n",
       "    </tr>\n",
       "    <tr>\n",
       "      <th>5</th>\n",
       "      <td>None</td>\n",
       "      <td>RT @Nick_Clamorgan: It's happening...!\\n\\n@CNN slowly begins to prepare its viewers for inevitable @realDonaldTrump victory.\\n\\n\"The outcome wo…</td>\n",
       "      <td>LatinFrog</td>\n",
       "      <td></td>\n",
       "    </tr>\n",
       "    <tr>\n",
       "      <th>6</th>\n",
       "      <td>None</td>\n",
       "      <td>RT @CopingMAGA: Trump really blew $3,000,000 to give Biden 132 more votes, that has to be the L of the decade.</td>\n",
       "      <td>VolkenVoltage</td>\n",
       "      <td>United States</td>\n",
       "    </tr>\n",
       "    <tr>\n",
       "      <th>7</th>\n",
       "      <td>None</td>\n",
       "      <td>@TrumpWarRoom @JennaEllisEsq Not puzzling at all. \\nBiden won. tRump lost. \\nEnd of story. \\nNo puzzle there.</td>\n",
       "      <td>scolegit13</td>\n",
       "      <td>USA</td>\n",
       "    </tr>\n",
       "    <tr>\n",
       "      <th>8</th>\n",
       "      <td>None</td>\n",
       "      <td>RT @CopingMAGA: Trump really blew $3,000,000 to give Biden 132 more votes, that has to be the L of the decade.</td>\n",
       "      <td>whitney1515</td>\n",
       "      <td></td>\n",
       "    </tr>\n",
       "    <tr>\n",
       "      <th>9</th>\n",
       "      <td>None</td>\n",
       "      <td>RT @DrDublin1: @piersmorgan Last time he tried, he spent $3m, only to proven Biden got more votes than the first vote.  I'm not sure Trump…</td>\n",
       "      <td>Ayoola50247910</td>\n",
       "      <td></td>\n",
       "    </tr>\n",
       "    <tr>\n",
       "      <th>10</th>\n",
       "      <td>None</td>\n",
       "      <td>Make no mistake about it. Trump lost because 8 million Republicans voted for Biden</td>\n",
       "      <td>SoCalGolfSchool</td>\n",
       "      <td></td>\n",
       "    </tr>\n",
       "    <tr>\n",
       "      <th>11</th>\n",
       "      <td>None</td>\n",
       "      <td>@DemGoneGirl @JoeBiden 🤣🤣🤣🤣 you realize you don’t have to be a US citizen to follow someone.... apparently you don’… https://t.co/TpaZhd1Y0V</td>\n",
       "      <td>sweetdeelovin</td>\n",
       "      <td></td>\n",
       "    </tr>\n",
       "    <tr>\n",
       "      <th>12</th>\n",
       "      <td>None</td>\n",
       "      <td>@aimeewords @klmala01 @JennaEllisEsq Show me just one instance, one video, where votes were taken away from Biden a… https://t.co/e6bntPDjyV</td>\n",
       "      <td>Tetsujin_Z8</td>\n",
       "      <td></td>\n",
       "    </tr>\n",
       "    <tr>\n",
       "      <th>13</th>\n",
       "      <td>None</td>\n",
       "      <td>RT @LynnSharig8: If Biden cheated, And Democrats could rig the presidential election- you can be sure that Mitch McConnell would have lost…</td>\n",
       "      <td>reginaw50361</td>\n",
       "      <td>Florida, USA</td>\n",
       "    </tr>\n",
       "    <tr>\n",
       "      <th>14</th>\n",
       "      <td>None</td>\n",
       "      <td>RT @TheDemCoalition: In order to maximize the pain to struggling Americans who Biden wants to help, Trump is taking back $455 billion from…</td>\n",
       "      <td>Becka73266384</td>\n",
       "      <td></td>\n",
       "    </tr>\n",
       "    <tr>\n",
       "      <th>15</th>\n",
       "      <td>None</td>\n",
       "      <td>RT @jdice03: If you believe Trump when he says Biden cheated, then do you believe Ted Cruz cheated too? https://t.co/PeJlBPM1fh</td>\n",
       "      <td>MichaelAron82nd</td>\n",
       "      <td>Palmdale, CA</td>\n",
       "    </tr>\n",
       "    <tr>\n",
       "      <th>16</th>\n",
       "      <td>None</td>\n",
       "      <td>RT @biannagolodryga: .@Kasparov63 on why Putin hasn’t congratulated Biden yet: \\n“I have bad news for you: I think it’s a very ominous sign.…</td>\n",
       "      <td>kzocd</td>\n",
       "      <td></td>\n",
       "    </tr>\n",
       "    <tr>\n",
       "      <th>17</th>\n",
       "      <td>None</td>\n",
       "      <td>RT @cmclymer: Let me get this straight: against the expert advice of everyone and anyone credible, Donald Trump paid $3 million for a Wisco…</td>\n",
       "      <td>dips_mufc</td>\n",
       "      <td>London, England</td>\n",
       "    </tr>\n",
       "    <tr>\n",
       "      <th>18</th>\n",
       "      <td>None</td>\n",
       "      <td>Also to be clear: I still believe Trump absolutely can still fight the fraud and have #FourMoreYears \\nI’m just stat… https://t.co/QizKdPpuxI</td>\n",
       "      <td>Brooki313_</td>\n",
       "      <td>📍Charlotte NC</td>\n",
       "    </tr>\n",
       "    <tr>\n",
       "      <th>19</th>\n",
       "      <td>None</td>\n",
       "      <td>RT @santiagomayer_: So the Trump campaign paid $3,000,000 for Biden to get an extra 132 votes.\\n\\nSo grateful for all the Trump supporters wh…</td>\n",
       "      <td>PMafull</td>\n",
       "      <td>Delaware, USA</td>\n",
       "    </tr>\n",
       "  </tbody>\n",
       "</table>\n",
       "</div>"
      ],
      "text/plain": [
       "     geo  \\\n",
       "0   None   \n",
       "1   None   \n",
       "2   None   \n",
       "3   None   \n",
       "4   None   \n",
       "5   None   \n",
       "6   None   \n",
       "7   None   \n",
       "8   None   \n",
       "9   None   \n",
       "10  None   \n",
       "11  None   \n",
       "12  None   \n",
       "13  None   \n",
       "14  None   \n",
       "15  None   \n",
       "16  None   \n",
       "17  None   \n",
       "18  None   \n",
       "19  None   \n",
       "\n",
       "                                                                                                                                                text  \\\n",
       "0      BRING THE TAPE OF BIDEN ADMITTING THAT HE HAS THE BEST SYSTEM FOR FRAUD THEN EVER BEFORE.\\nI PUT A MOTION TO THE SUP… https://t.co/DBFDraHtS5   \n",
       "1                                                            A Rush to Expand the Border Wall That Many Fear Is Here to Stay https://t.co/7ZR7b2enGv   \n",
       "2    RT @CREWcrew: 2012 Obama: 51.1% of the vote, 65.9 million votes\\n2012 Romney: 47.2% of the vote, 60.9 million votes\\n\\n2020 Biden: 51.1% of th…   \n",
       "3                                                       @joshdcaplan @IngrahamAngle Electoral vote going Trump! Screw Beijing Biden and Obama regime   \n",
       "4       RT @kylegriffin1: The outgoing Trump admin is racing to enact the biggest change to the federal civil service in generations, reclassifying…   \n",
       "5   RT @Nick_Clamorgan: It's happening...!\\n\\n@CNN slowly begins to prepare its viewers for inevitable @realDonaldTrump victory.\\n\\n\"The outcome wo…   \n",
       "6                                     RT @CopingMAGA: Trump really blew $3,000,000 to give Biden 132 more votes, that has to be the L of the decade.   \n",
       "7                                      @TrumpWarRoom @JennaEllisEsq Not puzzling at all. \\nBiden won. tRump lost. \\nEnd of story. \\nNo puzzle there.   \n",
       "8                                     RT @CopingMAGA: Trump really blew $3,000,000 to give Biden 132 more votes, that has to be the L of the decade.   \n",
       "9        RT @DrDublin1: @piersmorgan Last time he tried, he spent $3m, only to proven Biden got more votes than the first vote.  I'm not sure Trump…   \n",
       "10                                                                Make no mistake about it. Trump lost because 8 million Republicans voted for Biden   \n",
       "11      @DemGoneGirl @JoeBiden 🤣🤣🤣🤣 you realize you don’t have to be a US citizen to follow someone.... apparently you don’… https://t.co/TpaZhd1Y0V   \n",
       "12      @aimeewords @klmala01 @JennaEllisEsq Show me just one instance, one video, where votes were taken away from Biden a… https://t.co/e6bntPDjyV   \n",
       "13       RT @LynnSharig8: If Biden cheated, And Democrats could rig the presidential election- you can be sure that Mitch McConnell would have lost…   \n",
       "14       RT @TheDemCoalition: In order to maximize the pain to struggling Americans who Biden wants to help, Trump is taking back $455 billion from…   \n",
       "15                   RT @jdice03: If you believe Trump when he says Biden cheated, then do you believe Ted Cruz cheated too? https://t.co/PeJlBPM1fh   \n",
       "16     RT @biannagolodryga: .@Kasparov63 on why Putin hasn’t congratulated Biden yet: \\n“I have bad news for you: I think it’s a very ominous sign.…   \n",
       "17      RT @cmclymer: Let me get this straight: against the expert advice of everyone and anyone credible, Donald Trump paid $3 million for a Wisco…   \n",
       "18     Also to be clear: I still believe Trump absolutely can still fight the fraud and have #FourMoreYears \\nI’m just stat… https://t.co/QizKdPpuxI   \n",
       "19    RT @santiagomayer_: So the Trump campaign paid $3,000,000 for Biden to get an extra 132 votes.\\n\\nSo grateful for all the Trump supporters wh…   \n",
       "\n",
       "               user         location  \n",
       "0          JACROYAL                   \n",
       "1   JosRamnLorenzo1                   \n",
       "2         PSchauben          she/her  \n",
       "3         Arabian67     Anderson, IN  \n",
       "4    KellyReed72184        Canby, OR  \n",
       "5         LatinFrog                   \n",
       "6     VolkenVoltage    United States  \n",
       "7        scolegit13              USA  \n",
       "8       whitney1515                   \n",
       "9    Ayoola50247910                   \n",
       "10  SoCalGolfSchool                   \n",
       "11    sweetdeelovin                   \n",
       "12      Tetsujin_Z8                   \n",
       "13     reginaw50361     Florida, USA  \n",
       "14    Becka73266384                   \n",
       "15  MichaelAron82nd     Palmdale, CA  \n",
       "16            kzocd                   \n",
       "17        dips_mufc  London, England  \n",
       "18       Brooki313_    📍Charlotte NC  \n",
       "19          PMafull    Delaware, USA  "
      ]
     },
     "execution_count": 10,
     "metadata": {},
     "output_type": "execute_result"
    }
   ],
   "source": [
    "pd.set_option('max_colwidth',1000)\n",
    "tweet_df.head(20)"
   ]
  },
  {
   "cell_type": "code",
   "execution_count": 21,
   "metadata": {},
   "outputs": [],
   "source": [
    "df=pd.read_csv('C:/Users/anshi/Desktop/Biden_loc.csv')"
   ]
  },
  {
   "cell_type": "code",
   "execution_count": 22,
   "metadata": {},
   "outputs": [
    {
     "name": "stdout",
     "output_type": "stream",
     "text": [
      "24239\n",
      "['bring', 'the', 'tape', 'of', 'biden', 'admitting', 'that', 'he', 'has', 'the', 'best', 'system', 'for', 'fraud', 'then', 'ever', 'before', '.', 'i', 'put']\n"
     ]
    }
   ],
   "source": [
    "from nltk.tokenize import TweetTokenizer\n",
    "tknzr = TweetTokenizer()\n",
    "\n",
    "def tokenizer_tweets(df):\n",
    "    \n",
    "    text = ''\n",
    "    for t in df['text']:\n",
    "        text += t\n",
    "    tokens = [i.lower() for i in tknzr.tokenize(text)]\n",
    "    \n",
    "    return tokens\n",
    "\n",
    "tokens = tokenizer_tweets(df)\n",
    "print(len(tokens))\n",
    "print(tokens[:20])"
   ]
  },
  {
   "cell_type": "code",
   "execution_count": 23,
   "metadata": {},
   "outputs": [
    {
     "name": "stdout",
     "output_type": "stream",
     "text": [
      "The lenght's average in tweets: 129.46%\n"
     ]
    }
   ],
   "source": [
    "import numpy as np\n",
    "mean = np.mean([len(i) for i in df.text])\n",
    "\n",
    "print(\"The lenght's average in tweets: %.2f%%\" % mean)"
   ]
  },
  {
   "cell_type": "code",
   "execution_count": 24,
   "metadata": {},
   "outputs": [
    {
     "name": "stderr",
     "output_type": "stream",
     "text": [
      "[nltk_data] Downloading package stopwords to\n",
      "[nltk_data]     C:\\Users\\anshi\\AppData\\Roaming\\nltk_data...\n",
      "[nltk_data]   Package stopwords is already up-to-date!\n"
     ]
    },
    {
     "data": {
      "text/plain": [
       "True"
      ]
     },
     "execution_count": 24,
     "metadata": {},
     "output_type": "execute_result"
    }
   ],
   "source": [
    "import nltk\n",
    "nltk.download('stopwords')"
   ]
  },
  {
   "cell_type": "code",
   "execution_count": 25,
   "metadata": {},
   "outputs": [
    {
     "name": "stdout",
     "output_type": "stream",
     "text": [
      "9570\n",
      "['bring', 'tape', 'biden', 'admitting', 'best', 'system', 'fraud', 'ever', 'put', 'motion', 'sup', 'rush', 'expand', 'border', 'wall', 'many', 'fear', 'stay', 'obama', 'vote']\n"
     ]
    }
   ],
   "source": [
    "from nltk.corpus import stopwords\n",
    "import string\n",
    "\n",
    "punctiuation = list(string.punctuation)\n",
    "stop = stopwords.words('english') + punctiuation\n",
    "\n",
    "def clear_tokens(tokens):\n",
    "    \n",
    "    tokens_cl = [t for t in tokens if (len(t) >= 3) \n",
    "                 and (not t.startswith(('#', '@')))\n",
    "                 and (not t.startswith('http'))\n",
    "                 and (t not in stop)\n",
    "                 and (t[0].isalpha())]\n",
    "    \n",
    "    return tokens_cl\n",
    "\n",
    "tokens_cl = clear_tokens(tokens)\n",
    "print(len(tokens_cl))\n",
    "print(tokens_cl[:20])"
   ]
  },
  {
   "cell_type": "code",
   "execution_count": 26,
   "metadata": {},
   "outputs": [],
   "source": [
    "from nltk import FreqDist\n",
    "\n",
    "def get_top20_of(i, n=20):\n",
    "    return FreqDist([t for t in tokens if t.startswith(i)]).most_common(n)"
   ]
  },
  {
   "cell_type": "code",
   "execution_count": 27,
   "metadata": {},
   "outputs": [
    {
     "data": {
      "text/plain": [
       "[('@copingmaga', 106),\n",
       " ('@realdonaldtrump', 45),\n",
       " ('@georgetakei', 30),\n",
       " ('@chriscjackson', 26),\n",
       " ('@kylegriffin1', 25),\n",
       " ('@jysexton', 25),\n",
       " ('@cmclymer', 23),\n",
       " ('@rschooley', 23),\n",
       " ('@danielnewman', 23),\n",
       " ('@mmpadellan', 17),\n",
       " ('@ap', 16),\n",
       " ('@nightlypolitics', 14),\n",
       " ('@nypost', 14),\n",
       " ('@ronbrownstein', 14),\n",
       " ('@biannagolodryga', 12),\n",
       " ('@kasparov63', 12),\n",
       " ('@santiagomayer_', 12),\n",
       " ('@adamparkhomenko', 12),\n",
       " ('@thedemcoalition', 11),\n",
       " ('@reuters', 11)]"
      ]
     },
     "execution_count": 27,
     "metadata": {},
     "output_type": "execute_result"
    }
   ],
   "source": [
    "get_top20_of('@')"
   ]
  },
  {
   "cell_type": "code",
   "execution_count": 28,
   "metadata": {},
   "outputs": [
    {
     "data": {
      "text/plain": [
       "[('#america', 24),\n",
       " ('#writeintrump', 22),\n",
       " ('#bidencheated', 4),\n",
       " ('#trump', 3),\n",
       " ('#biden', 2),\n",
       " ('#ohio', 2),\n",
       " ('#electionresults', 2),\n",
       " ('#fourmoreyears', 1),\n",
       " ('#revenge', 1),\n",
       " ('#presidentelectjoebiden', 1),\n",
       " ('#maga', 1),\n",
       " ('#usapols', 1),\n",
       " ('#stopthes', 1),\n",
       " ('#democrats', 1),\n",
       " ('#twitter', 1),\n",
       " ('#soreloser', 1),\n",
       " ('#byebyetrump', 1),\n",
       " ('#smartnews', 1),\n",
       " ('#diaperdonnie', 1),\n",
       " ('#news', 1)]"
      ]
     },
     "execution_count": 28,
     "metadata": {},
     "output_type": "execute_result"
    }
   ],
   "source": [
    "get_top20_of('#')"
   ]
  },
  {
   "cell_type": "code",
   "execution_count": 29,
   "metadata": {},
   "outputs": [],
   "source": [
    "from textblob import TextBlob\n",
    "import re"
   ]
  },
  {
   "cell_type": "code",
   "execution_count": 30,
   "metadata": {},
   "outputs": [],
   "source": [
    "def clean_tweet(tweet):\n",
    "    '''\n",
    "    Function to clean the text in a tweet by removing links and special characters using regex.\n",
    "    '''\n",
    "    return ' '.join(re.sub(\"(@[A-Za-z0-9]+)|([^0-9A-Za-z \\t])|(\\w+:\\/\\/\\S+)\", \" \", tweet).split())\n",
    "\n",
    "def get_tweet_sentiment(tweet):\n",
    "    #Function to classify sentiments of passed tweets using TextBlob's sentiment method\n",
    "    analysis = TextBlob(clean_tweet(tweet))\n",
    "    #set sentiments\n",
    "    if analysis.sentiment.polarity > 0:\n",
    "        return 'Positive'\n",
    "    elif analysis.sentiment.polarity == 0:\n",
    "        return 'Neutral'\n",
    "    else:\n",
    "        return 'Negative'\n"
   ]
  },
  {
   "cell_type": "code",
   "execution_count": 31,
   "metadata": {},
   "outputs": [
    {
     "data": {
      "text/html": [
       "<div>\n",
       "<style scoped>\n",
       "    .dataframe tbody tr th:only-of-type {\n",
       "        vertical-align: middle;\n",
       "    }\n",
       "\n",
       "    .dataframe tbody tr th {\n",
       "        vertical-align: top;\n",
       "    }\n",
       "\n",
       "    .dataframe thead th {\n",
       "        text-align: right;\n",
       "    }\n",
       "</style>\n",
       "<table border=\"1\" class=\"dataframe\">\n",
       "  <thead>\n",
       "    <tr style=\"text-align: right;\">\n",
       "      <th></th>\n",
       "      <th>geo</th>\n",
       "      <th>text</th>\n",
       "      <th>user</th>\n",
       "      <th>location</th>\n",
       "      <th>sentiment</th>\n",
       "    </tr>\n",
       "  </thead>\n",
       "  <tbody>\n",
       "    <tr>\n",
       "      <th>0</th>\n",
       "      <td>NaN</td>\n",
       "      <td>BRING THE TAPE OF BIDEN ADMITTING THAT HE HAS ...</td>\n",
       "      <td>JACROYAL</td>\n",
       "      <td>NaN</td>\n",
       "      <td>Positive</td>\n",
       "    </tr>\n",
       "    <tr>\n",
       "      <th>1</th>\n",
       "      <td>NaN</td>\n",
       "      <td>A Rush to Expand the Border Wall That Many Fea...</td>\n",
       "      <td>JosRamnLorenzo1</td>\n",
       "      <td>NaN</td>\n",
       "      <td>Positive</td>\n",
       "    </tr>\n",
       "    <tr>\n",
       "      <th>2</th>\n",
       "      <td>NaN</td>\n",
       "      <td>RT @CREWcrew: 2012 Obama: 51.1% of the vote, 6...</td>\n",
       "      <td>PSchauben</td>\n",
       "      <td>she/her</td>\n",
       "      <td>Neutral</td>\n",
       "    </tr>\n",
       "    <tr>\n",
       "      <th>3</th>\n",
       "      <td>NaN</td>\n",
       "      <td>@joshdcaplan @IngrahamAngle Electoral vote goi...</td>\n",
       "      <td>Arabian67</td>\n",
       "      <td>Anderson, IN</td>\n",
       "      <td>Neutral</td>\n",
       "    </tr>\n",
       "    <tr>\n",
       "      <th>4</th>\n",
       "      <td>NaN</td>\n",
       "      <td>RT @kylegriffin1: The outgoing Trump admin is ...</td>\n",
       "      <td>KellyReed72184</td>\n",
       "      <td>Canby, OR</td>\n",
       "      <td>Neutral</td>\n",
       "    </tr>\n",
       "    <tr>\n",
       "      <th>...</th>\n",
       "      <td>...</td>\n",
       "      <td>...</td>\n",
       "      <td>...</td>\n",
       "      <td>...</td>\n",
       "      <td>...</td>\n",
       "    </tr>\n",
       "    <tr>\n",
       "      <th>995</th>\n",
       "      <td>NaN</td>\n",
       "      <td>RT @RBReich: In 2020, Biden won the popular vo...</td>\n",
       "      <td>tylicki_nancy</td>\n",
       "      <td>Ukiah CA</td>\n",
       "      <td>Positive</td>\n",
       "    </tr>\n",
       "    <tr>\n",
       "      <th>996</th>\n",
       "      <td>NaN</td>\n",
       "      <td>@marklevinshow Yahoo. Trump lost. Biden WON!!!!</td>\n",
       "      <td>jjfmimi</td>\n",
       "      <td>NaN</td>\n",
       "      <td>Neutral</td>\n",
       "    </tr>\n",
       "    <tr>\n",
       "      <th>997</th>\n",
       "      <td>NaN</td>\n",
       "      <td>RT @LVNancy: The 12th Amendment allows states ...</td>\n",
       "      <td>timfish_2000</td>\n",
       "      <td>St Augustine Beach, FL</td>\n",
       "      <td>Neutral</td>\n",
       "    </tr>\n",
       "    <tr>\n",
       "      <th>998</th>\n",
       "      <td>NaN</td>\n",
       "      <td>RT @CopingMAGA: Trump really blew $3,000,000 t...</td>\n",
       "      <td>avrijimenez</td>\n",
       "      <td>NaN</td>\n",
       "      <td>Positive</td>\n",
       "    </tr>\n",
       "    <tr>\n",
       "      <th>999</th>\n",
       "      <td>NaN</td>\n",
       "      <td>@newtgingrich Fast forward to fall 2021:\\nTrum...</td>\n",
       "      <td>DaxTwit</td>\n",
       "      <td>Montreal</td>\n",
       "      <td>Positive</td>\n",
       "    </tr>\n",
       "  </tbody>\n",
       "</table>\n",
       "<p>1000 rows × 5 columns</p>\n",
       "</div>"
      ],
      "text/plain": [
       "     geo                                               text             user  \\\n",
       "0    NaN  BRING THE TAPE OF BIDEN ADMITTING THAT HE HAS ...         JACROYAL   \n",
       "1    NaN  A Rush to Expand the Border Wall That Many Fea...  JosRamnLorenzo1   \n",
       "2    NaN  RT @CREWcrew: 2012 Obama: 51.1% of the vote, 6...        PSchauben   \n",
       "3    NaN  @joshdcaplan @IngrahamAngle Electoral vote goi...        Arabian67   \n",
       "4    NaN  RT @kylegriffin1: The outgoing Trump admin is ...   KellyReed72184   \n",
       "..   ...                                                ...              ...   \n",
       "995  NaN  RT @RBReich: In 2020, Biden won the popular vo...    tylicki_nancy   \n",
       "996  NaN    @marklevinshow Yahoo. Trump lost. Biden WON!!!!          jjfmimi   \n",
       "997  NaN  RT @LVNancy: The 12th Amendment allows states ...     timfish_2000   \n",
       "998  NaN  RT @CopingMAGA: Trump really blew $3,000,000 t...      avrijimenez   \n",
       "999  NaN  @newtgingrich Fast forward to fall 2021:\\nTrum...          DaxTwit   \n",
       "\n",
       "                   location sentiment  \n",
       "0                       NaN  Positive  \n",
       "1                       NaN  Positive  \n",
       "2                   she/her   Neutral  \n",
       "3              Anderson, IN   Neutral  \n",
       "4                 Canby, OR   Neutral  \n",
       "..                      ...       ...  \n",
       "995                Ukiah CA  Positive  \n",
       "996                     NaN   Neutral  \n",
       "997  St Augustine Beach, FL   Neutral  \n",
       "998                     NaN  Positive  \n",
       "999                Montreal  Positive  \n",
       "\n",
       "[1000 rows x 5 columns]"
      ]
     },
     "execution_count": 31,
     "metadata": {},
     "output_type": "execute_result"
    }
   ],
   "source": [
    "df['sentiment'] = [get_tweet_sentiment(t) for t in df.text]\n",
    "df"
   ]
  },
  {
   "cell_type": "code",
   "execution_count": null,
   "metadata": {},
   "outputs": [],
   "source": []
  },
  {
   "cell_type": "code",
   "execution_count": null,
   "metadata": {},
   "outputs": [],
   "source": []
  }
 ],
 "metadata": {
  "kernelspec": {
   "display_name": "Python 3",
   "language": "python",
   "name": "python3"
  },
  "language_info": {
   "codemirror_mode": {
    "name": "ipython",
    "version": 3
   },
   "file_extension": ".py",
   "mimetype": "text/x-python",
   "name": "python",
   "nbconvert_exporter": "python",
   "pygments_lexer": "ipython3",
   "version": "3.8.3"
  }
 },
 "nbformat": 4,
 "nbformat_minor": 4
}
